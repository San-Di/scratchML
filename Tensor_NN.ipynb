{
  "nbformat": 4,
  "nbformat_minor": 0,
  "metadata": {
    "colab": {
      "name": "Tensor NN.ipynb",
      "provenance": [],
      "authorship_tag": "ABX9TyMf7mhniMWw/OsSYFH9p284",
      "include_colab_link": true
    },
    "kernelspec": {
      "name": "python3",
      "display_name": "Python 3"
    },
    "language_info": {
      "name": "python"
    }
  },
  "cells": [
    {
      "cell_type": "markdown",
      "metadata": {
        "id": "view-in-github",
        "colab_type": "text"
      },
      "source": [
        "<a href=\"https://colab.research.google.com/github/San-Di/scratchML/blob/master/Tensor_NN.ipynb\" target=\"_parent\"><img src=\"https://colab.research.google.com/assets/colab-badge.svg\" alt=\"Open In Colab\"/></a>"
      ]
    },
    {
      "cell_type": "code",
      "metadata": {
        "id": "6cbiy-wxJRh6"
      },
      "source": [
        "import tensorflow as tf\n",
        "import numpy as np\n",
        "\n",
        "tf.compat.v1.disable_eager_execution()"
      ],
      "execution_count": 1,
      "outputs": []
    },
    {
      "cell_type": "code",
      "metadata": {
        "id": "hCD4Y5rgKLk-"
      },
      "source": [
        "epochs = 1\n",
        "batch_size = 1\n",
        "learning_rate = 0.01\n",
        "\n",
        "(X_train,Y_train), (X_test, Y_test) = tf.keras.datasets.mnist.load_data()\n",
        "X_train = X_train / 255\n",
        "X_test = X_test / 255\n",
        "X_train = X_train.reshape(X_train.shape[0],-1)\n",
        "\n",
        "img_size_flat = X_train.shape[1]\n",
        "n_classes = 10"
      ],
      "execution_count": 2,
      "outputs": []
    },
    {
      "cell_type": "code",
      "metadata": {
        "id": "dL_Nq1M1eMjv"
      },
      "source": [
        "def randomize(x, y):\n",
        "    \"\"\" Randomizes the order of data samples and their corresponding labels\"\"\"\n",
        "    permutation = np.random.permutation(y.shape[0])\n",
        "    shuffled_x = x[permutation, :]\n",
        "    shuffled_y = y[permutation]\n",
        "    return shuffled_x, shuffled_y"
      ],
      "execution_count": 3,
      "outputs": []
    },
    {
      "cell_type": "code",
      "metadata": {
        "id": "CT4LTpDFNkBU"
      },
      "source": [
        "def get_next_batch(start, end):\n",
        "  x_batch = X_train[start: end]\n",
        "  y_batch = Y_train[start: end]\n",
        "  return x_batch, y_batch\n",
        "  "
      ],
      "execution_count": 4,
      "outputs": []
    },
    {
      "cell_type": "code",
      "metadata": {
        "id": "nJE16npQcfpI"
      },
      "source": [
        "def fc(X, neurons, name):\n",
        "\n",
        "  w_init = tf.compat.v1.truncated_normal_initializer(stddev=0.01)\n",
        "  W =  tf.compat.v1.get_variable('W' + name,\n",
        "                           shape=[X.shape[1], neurons],\n",
        "                           initializer=w_init)\n",
        "\n",
        "\n",
        "  b_init = tf.constant(0., shape=[1, neurons])\n",
        "  b = tf.compat.v1.get_variable('b' + name, initializer=b_init)\n",
        "  print(X.shape, W.shape)\n",
        "  Z = tf.matmul(X, W)\n",
        "  A = tf.nn.relu(Z)\n",
        "  return A"
      ],
      "execution_count": 5,
      "outputs": []
    },
    {
      "cell_type": "code",
      "metadata": {
        "id": "457SGeDwdtPS"
      },
      "source": [
        "def bp(ground_truth, prediction):\n",
        "  loss = tf.reduce_mean(tf.nn.softmax_cross_entropy_with_logits(labels=ground_truth, logits=prediction), name='loss')\n",
        "  optimizer = tf.train.AdamOptimizer(learning_rate=learning_rate, name='Adam-op').minimize(loss)\n",
        "  correct_prediction = tf.equal(tf.argmax(output_logits, 1), tf.argmax(y, 1), name='correct_pred')\n",
        "  accuracy = tf.reduce_mean(tf.cast(correct_prediction), name='accuracy')\n",
        "\n",
        "  return optimizer, loss, accuracy\n"
      ],
      "execution_count": 6,
      "outputs": []
    },
    {
      "cell_type": "code",
      "metadata": {
        "id": "cIB5b7nFeEYt"
      },
      "source": [
        "def train():\n",
        "  num_tr_iter = int(len(Y_train) / batch_size)\n",
        "  init = tf.compat.v1.global_variables_initializer()\n",
        "  \n",
        "  x_dict = tf.compat.v1.placeholder(tf.float32, shape=[None, img_size_flat], name='X')\n",
        "  y_dict = tf.compat.v1.placeholder(tf.float32, shape=[None, n_classes], name='Y')\n",
        " \n",
        "  with tf.compat.v1.Session() as sess:\n",
        "    sess.run(init)\n",
        "    for epoch in range(epochs):\n",
        "        # print('Training epoch: {}'.format(epoch + 1))\n",
        "        x_train, y_train = randomize(X_train, Y_train)\n",
        "        for iteration in range(num_tr_iter):\n",
        "          start = iteration * batch_size\n",
        "          end = start + batch_size\n",
        "          x, y = get_next_batch(start, end)\n",
        "          \n",
        "          # print(x.shape, y.shape)\n",
        "          layer1 = fc(x_dict, 200, str(epoch))\n",
        "          layer2 = fc(layer1, 10, str(epoch))\n",
        "\n",
        "          updated_params, loss, acc = bp(y_dict, layer2)\n",
        "\n",
        "          feed_dict_batch = {x_dict: x, y_dict: y}\n",
        "          sess.run(updated_params, feed_dict_batch)\n",
        "\n",
        "          if iteration % 10 == 0:\n",
        "            # Calculate and display the batch loss and accuracy\n",
        "            loss_batch, acc_batch = sess.run([loss, acc])\n",
        "\n",
        "            print(\"iter {0:3d}:\\t Loss={1:.2f},\\tTraining Accuracy={2:.01%}\".\n",
        "                  format(iteration, loss_batch, acc_batch))"
      ],
      "execution_count": 7,
      "outputs": []
    },
    {
      "cell_type": "code",
      "metadata": {
        "colab": {
          "base_uri": "https://localhost:8080/",
          "height": 307
        },
        "id": "aBygyPl7fUAD",
        "outputId": "181b7803-ca74-444e-8eaa-5fc9c06d03db"
      },
      "source": [
        "train()"
      ],
      "execution_count": 8,
      "outputs": [
        {
          "output_type": "error",
          "ename": "TypeError",
          "evalue": "ignored",
          "traceback": [
            "\u001b[0;31m---------------------------------------------------------------------------\u001b[0m",
            "\u001b[0;31mTypeError\u001b[0m                                 Traceback (most recent call last)",
            "\u001b[0;32m<ipython-input-8-2da0ffaf5447>\u001b[0m in \u001b[0;36m<module>\u001b[0;34m()\u001b[0m\n\u001b[0;32m----> 1\u001b[0;31m \u001b[0mtrain\u001b[0m\u001b[0;34m(\u001b[0m\u001b[0;34m)\u001b[0m\u001b[0;34m\u001b[0m\u001b[0;34m\u001b[0m\u001b[0m\n\u001b[0m",
            "\u001b[0;32m<ipython-input-7-b183220d8be9>\u001b[0m in \u001b[0;36mtrain\u001b[0;34m()\u001b[0m\n\u001b[1;32m     17\u001b[0m \u001b[0;34m\u001b[0m\u001b[0m\n\u001b[1;32m     18\u001b[0m           \u001b[0;31m# print(x.shape, y.shape)\u001b[0m\u001b[0;34m\u001b[0m\u001b[0;34m\u001b[0m\u001b[0;34m\u001b[0m\u001b[0m\n\u001b[0;32m---> 19\u001b[0;31m           \u001b[0mlayer1\u001b[0m \u001b[0;34m=\u001b[0m \u001b[0mfc\u001b[0m\u001b[0;34m(\u001b[0m\u001b[0mx_dict\u001b[0m\u001b[0;34m,\u001b[0m \u001b[0;36m200\u001b[0m\u001b[0;34m,\u001b[0m \u001b[0mstr\u001b[0m\u001b[0;34m(\u001b[0m\u001b[0mepoch\u001b[0m\u001b[0;34m)\u001b[0m\u001b[0;34m)\u001b[0m\u001b[0;34m\u001b[0m\u001b[0;34m\u001b[0m\u001b[0m\n\u001b[0m\u001b[1;32m     20\u001b[0m           \u001b[0mlayer2\u001b[0m \u001b[0;34m=\u001b[0m \u001b[0mfc\u001b[0m\u001b[0;34m(\u001b[0m\u001b[0mlayer1\u001b[0m\u001b[0;34m,\u001b[0m \u001b[0;36m10\u001b[0m\u001b[0;34m,\u001b[0m \u001b[0mstr\u001b[0m\u001b[0;34m(\u001b[0m\u001b[0mepoch\u001b[0m\u001b[0;34m)\u001b[0m\u001b[0;34m)\u001b[0m\u001b[0;34m\u001b[0m\u001b[0;34m\u001b[0m\u001b[0m\n\u001b[1;32m     21\u001b[0m \u001b[0;34m\u001b[0m\u001b[0m\n",
            "\u001b[0;32m<ipython-input-5-25e02692f50e>\u001b[0m in \u001b[0;36mfc\u001b[0;34m(X, neurons, name)\u001b[0m\n\u001b[1;32m      3\u001b[0m   \u001b[0mw_init\u001b[0m \u001b[0;34m=\u001b[0m \u001b[0mtf\u001b[0m\u001b[0;34m.\u001b[0m\u001b[0mcompat\u001b[0m\u001b[0;34m.\u001b[0m\u001b[0mv1\u001b[0m\u001b[0;34m.\u001b[0m\u001b[0mtruncated_normal_initializer\u001b[0m\u001b[0;34m(\u001b[0m\u001b[0mstddev\u001b[0m\u001b[0;34m=\u001b[0m\u001b[0;36m0.01\u001b[0m\u001b[0;34m)\u001b[0m\u001b[0;34m\u001b[0m\u001b[0;34m\u001b[0m\u001b[0m\n\u001b[1;32m      4\u001b[0m   W =  tf.compat.v1.get_variable(shape=[X.shape[1], neurons],\n\u001b[0;32m----> 5\u001b[0;31m                            initializer=w_init)\n\u001b[0m\u001b[1;32m      6\u001b[0m \u001b[0;34m\u001b[0m\u001b[0m\n\u001b[1;32m      7\u001b[0m \u001b[0;34m\u001b[0m\u001b[0m\n",
            "\u001b[0;31mTypeError\u001b[0m: get_variable() missing 1 required positional argument: 'name'"
          ]
        }
      ]
    }
  ]
}